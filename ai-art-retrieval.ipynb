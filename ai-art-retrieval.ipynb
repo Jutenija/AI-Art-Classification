{
  "nbformat": 4,
  "nbformat_minor": 0,
  "metadata": {
    "colab": {
      "provenance": [],
      "collapsed_sections": [
        "6w_U6XPOSsr0",
        "uVK13G0aYinn",
        "M9cAvsEW-9W7"
      ]
    },
    "kernelspec": {
      "name": "python3",
      "display_name": "Python 3"
    },
    "language_info": {
      "name": "python"
    }
  },
  "cells": [
    {
      "cell_type": "code",
      "execution_count": null,
      "metadata": {
        "id": "KXM52dOUO4-U"
      },
      "outputs": [],
      "source": [
        "from google.colab import drive\n",
        "drive.mount('/content/drive')"
      ]
    },
    {
      "cell_type": "code",
      "source": [
        "import json\n",
        "import PIL\n",
        "from io import BytesIO\n",
        "from PIL import Image\n",
        "import os\n",
        "import random\n",
        "import numpy as np\n",
        "import matplotlib.pyplot as plt"
      ],
      "metadata": {
        "id": "zfRixnod9ILY"
      },
      "execution_count": null,
      "outputs": []
    },
    {
      "cell_type": "markdown",
      "source": [
        "# pycurl"
      ],
      "metadata": {
        "id": "5k7T6j5E9L63"
      }
    },
    {
      "cell_type": "code",
      "source": [
        "try:\n",
        "  import pycurl\n",
        "except ImportError:\n",
        "  %pip install pycurl\n",
        "  import pycurl\n",
        "import certifi\n",
        "try:\n",
        "  import datasets\n",
        "except ImportError:\n",
        "  %pip install datasets\n",
        "  import datasets\n",
        "from datasets import load_dataset"
      ],
      "metadata": {
        "id": "fGzIHH4kS6F_"
      },
      "execution_count": null,
      "outputs": []
    },
    {
      "cell_type": "markdown",
      "source": [
        "# **DALL-E 2 Image Gallery Scraping**"
      ],
      "metadata": {
        "id": "6w_U6XPOSsr0"
      }
    },
    {
      "cell_type": "code",
      "source": [
        "def get_image_ids_in_page(page: int) -> list[str]:\n",
        "  \"\"\"Retrieves the image IDs found on the given page.\"\"\"\n",
        "  # Creating a buffer as the cURL is not allocating a buffer for the network response\n",
        "  buffer = BytesIO()\n",
        "  c = pycurl.Curl()\n",
        "  #initializing the request URL\n",
        "  c.setopt(c.URL, f'https://dalle2.gallery/api/images/aggregated?page={page}')\n",
        "  #setting options for cURL transfer\n",
        "  c.setopt(c.WRITEDATA, buffer)\n",
        "  #setting the file name holding the certificates\n",
        "  c.setopt(c.CAINFO, certifi.where())\n",
        "  c.setopt(pycurl.SSL_VERIFYPEER, 0)\n",
        "  c.setopt(pycurl.SSL_VERIFYHOST, 0)\n",
        "  # perform file transfer\n",
        "  c.perform()\n",
        "\n",
        "  #Ending the session and freeing the resources\n",
        "  c.close()\n",
        "  return [id for item in json.JSONDecoder().decode(buffer.getvalue().decode()) for id in item['Ids']]\n",
        "\n",
        "def aggregate_ids_in_pages(pages) -> list[str]:\n",
        "  \"\"\"Aggregates all image IDs found in the given pages. Best to order the pages in decreasing order.\"\"\"\n",
        "  return [item for sublist in [get_image_ids_in_page(page) for page in pages] for item in sublist]\n",
        "\n",
        "def get_image_from_id(image_id) -> Image:\n",
        "  \"\"\"Gets an image from an id.\"\"\"\n",
        "  # Creating a buffer as the cURL is not allocating a buffer for the network response\n",
        "  buffer = BytesIO()\n",
        "  c = pycurl.Curl()\n",
        "  #initializing the request URL\n",
        "  c.setopt(c.URL, f'https://dalle2.gallery/api/images/{image_id}/generated')\n",
        "  #setting options for cURL transfer\n",
        "  c.setopt(c.WRITEDATA, buffer)\n",
        "  #setting the file name holding the certificates\n",
        "  c.setopt(c.CAINFO, certifi.where())\n",
        "  c.setopt(pycurl.SSL_VERIFYPEER, 0)\n",
        "  c.setopt(pycurl.SSL_VERIFYHOST, 0)\n",
        "  # perform file transfer\n",
        "  c.perform()\n",
        "  #Ending the session and freeing the resources\n",
        "  c.close()\n",
        "  return Image.open(buffer)"
      ],
      "metadata": {
        "id": "kpKd_OoATZm6"
      },
      "execution_count": null,
      "outputs": []
    },
    {
      "cell_type": "code",
      "source": [
        "def download_dalle_images():\n",
        "  agg_ids = aggregate_ids_in_pages(sorted(list(range(0,500)), reverse = True))\n",
        "  filepath = '/content/drive/My Drive/ISYE 6740/DALL-E/'\n",
        "  f = open(f'{filepath}DALL-E_ids.txt', 'w')\n",
        "  f.write(','.join(agg_ids))\n",
        "  f.close()\n",
        "  for i, id in enumerate(agg_ids):\n",
        "    get_image_from_id(id).save(f'{filepath}dalle_{i}.png')"
      ],
      "metadata": {
        "id": "_iii806GUOgK"
      },
      "execution_count": null,
      "outputs": []
    },
    {
      "cell_type": "code",
      "source": [
        "# validate # of images\n",
        "files = os.listdir('/content/drive/My Drive/ISYE 6740/DALL-E/')\n",
        "print(len([file for file in files if file.endswith(\".png\")]))"
      ],
      "metadata": {
        "id": "5BBBVunuZD7U"
      },
      "execution_count": null,
      "outputs": []
    },
    {
      "cell_type": "code",
      "source": [
        "sizes = [os.path.getsize('/content/drive/My Drive/ISYE 6740/DALL-E/' + file) for file in files]"
      ],
      "metadata": {
        "id": "EYciGY4bIBGR"
      },
      "execution_count": null,
      "outputs": []
    },
    {
      "cell_type": "code",
      "source": [
        "sum(sizes)/1000000"
      ],
      "metadata": {
        "id": "tBECHIJlIL4S"
      },
      "execution_count": null,
      "outputs": []
    },
    {
      "cell_type": "markdown",
      "source": [
        "# **Midjourney Images**"
      ],
      "metadata": {
        "id": "uVK13G0aYinn"
      }
    },
    {
      "cell_type": "code",
      "source": [
        "test = open(filepath + midjourney_files[0]).read()\n",
        "test_json = json.JSONDecoder().decode(test)\n",
        "test_url = test_json['messages'][3113][0]['attachments'][0]['url'] #['messages'][list of 3114 elements][0 = get dict in list]['attachments'][0 = get attachment in list]['url']t"
      ],
      "metadata": {
        "id": "JXRgRcqPYbcs"
      },
      "execution_count": null,
      "outputs": []
    },
    {
      "cell_type": "code",
      "source": [
        "def get_image_from_url(url):\n",
        "  # Creating a buffer as the cURL is not allocating a buffer for the network response\n",
        "  buffer = BytesIO()\n",
        "  c = pycurl.Curl()\n",
        "  #initializing the request URL\n",
        "  c.setopt(c.URL, url)\n",
        "  custom_headers = ['User-Agent: Mozilla/5.0 (Windows NT 10.0; Win64; x64; rv:89.0) Gecko/20100101 Firefox/89.0/8mqLkJuL-86']\n",
        "  c.setopt(pycurl.HTTPHEADER, custom_headers)\n",
        "  #setting options for cURL transfer\n",
        "  c.setopt(c.WRITEDATA, buffer)\n",
        "  #setting the file name holding the certificates\n",
        "  c.setopt(c.CAINFO, certifi.where())\n",
        "  c.setopt(pycurl.SSL_VERIFYPEER, 0)\n",
        "  c.setopt(pycurl.SSL_VERIFYHOST, 0)\n",
        "  # perform file transfer\n",
        "  c.perform()\n",
        "  #Ending the session and freeing the resources\n",
        "  c.close()\n",
        "  if not buffer.getvalue():\n",
        "    return None\n",
        "  return Image.open(buffer)"
      ],
      "metadata": {
        "id": "i7lWngARXPZO"
      },
      "execution_count": null,
      "outputs": []
    },
    {
      "cell_type": "code",
      "source": [
        "def download_midjourney_images():\n",
        "  urls = []\n",
        "  filepath = '/content/drive/My Drive/ISYE 6740/Midjourney/'\n",
        "  midjourney_files = [file for file in os.listdir(filepath) if file.endswith('json')]\n",
        "  for i, mjf in enumerate(midjourney_files):\n",
        "    print(f\"file {i}\")\n",
        "    json_file = json.JSONDecoder().decode(open(filepath + mjf).read())\n",
        "    for msg in json_file['messages']:\n",
        "      if len(msg[0]['attachments']) > 0:\n",
        "        urls.append(msg[0]['attachments'][0]['url'])\n",
        "\n",
        "  random.shuffle(urls)\n",
        "  f = open(f'{filepath}Midjourney_URLs.txt', 'w')\n",
        "  f.write(','.join(urls))\n",
        "  f.close()\n",
        "  print(f\"{len(urls)} images found\")\n",
        "  i = 0\n",
        "  for u in urls:\n",
        "    image = get_image_from_url(u)\n",
        "    if image is None:\n",
        "      print(f\"skipped {u}\")\n",
        "      continue\n",
        "\n",
        "    image.save(f'{filepath}midjourney_{i}.png')\n",
        "    if i % 50 == 0:\n",
        "      print(f'image {i} saved')\n",
        "    i += 1\n",
        "    if i >= 10000:\n",
        "      break"
      ],
      "metadata": {
        "id": "Lew8Wu65asWi"
      },
      "execution_count": null,
      "outputs": []
    },
    {
      "cell_type": "code",
      "source": [
        "download_midjourney_images()"
      ],
      "metadata": {
        "id": "w6VNIylPglAX"
      },
      "execution_count": null,
      "outputs": []
    },
    {
      "cell_type": "code",
      "source": [
        "f = open(f'{filepath}Midjourney_URLs.txt')\n",
        "urls = f.read().split(\",\")\n",
        "urls[86]"
      ],
      "metadata": {
        "id": "q0fUFK58hDW1"
      },
      "execution_count": null,
      "outputs": []
    },
    {
      "cell_type": "code",
      "source": [
        "filepath = '/content/drive/My Drive/ISYE 6740/Midjourney/'\n",
        "i = 0\n",
        "for u in urls:\n",
        "  image = get_image_from_url(u)\n",
        "  if image is None:\n",
        "    print(f\"skipped {u}\")\n",
        "    continue\n",
        "\n",
        "  image.save(f'{filepath}midjourney_{i}.png')\n",
        "  if i % 50 == 0:\n",
        "    print(f'image {i} saved')\n",
        "  i += 1\n",
        "  if i >= 10000:\n",
        "    break"
      ],
      "metadata": {
        "id": "k_czi8mkmuSl"
      },
      "execution_count": null,
      "outputs": []
    },
    {
      "cell_type": "code",
      "source": [
        "get_image_from_url(urls[86])"
      ],
      "metadata": {
        "id": "qjdrtwo9nXkN"
      },
      "execution_count": null,
      "outputs": []
    },
    {
      "cell_type": "markdown",
      "source": [
        "# **StableDiffusion Images**"
      ],
      "metadata": {
        "id": "M9cAvsEW-9W7"
      }
    },
    {
      "cell_type": "code",
      "source": [
        "def save_ddb_images():\n",
        "  filepath = '/content/drive/My Drive/ISYE 6740/Stable Diffusion/'\n",
        "  sd_dataset = load_dataset('poloclub/diffusiondb', '2m_random_10k')\n",
        "  my_data = sd_dataset['train']\n",
        "  for i in range(len(my_data)):\n",
        "    my_data[i]['image'].save(f'{filepath}stablediff_{i}.png')"
      ],
      "metadata": {
        "id": "Y_tTXqPooKn7"
      },
      "execution_count": null,
      "outputs": []
    },
    {
      "cell_type": "code",
      "source": [
        "save_ddb_images()"
      ],
      "metadata": {
        "id": "8EtK9sPCpKSV"
      },
      "execution_count": null,
      "outputs": []
    },
    {
      "cell_type": "markdown",
      "source": [
        "# Downsampling Images"
      ],
      "metadata": {
        "id": "X7rjADwwrD-E"
      }
    },
    {
      "cell_type": "code",
      "source": [
        "dalle_path = '/content/drive/My Drive/ISYE 6740/DALL-E/'\n",
        "midjourney_path = '/content/drive/My Drive/ISYE 6740/Midjourney/'\n",
        "stablediff_path = '/content/drive/My Drive/ISYE 6740/Stable Diffusion/'\n",
        "\n",
        "folders = [dalle_path, midjourney_path, stablediff_path]\n",
        "\n",
        "def image_to_json(folder):\n",
        "  to_json = json.JSONEncoder()\n",
        "  encoded_images = []\n",
        "  images = [im for im in sorted(os.listdir(folder)) if im.endswith('png')]\n",
        "  f = open(f'{folder}Encoded Images.txt', 'w')\n",
        "  for i, image in enumerate(images):\n",
        "    arr = np.asarray(Image.open(folder+image).resize((64, 64))).tolist()\n",
        "    f.write(to_json.encode(arr)+'\\n')\n",
        "    f.flush()\n",
        "    if i % 100 == 0:\n",
        "      print(i)\n",
        "  f.close()"
      ],
      "metadata": {
        "id": "T1E5YxCLpunu"
      },
      "execution_count": null,
      "outputs": []
    },
    {
      "cell_type": "code",
      "source": [
        "image_to_json(midjourney_path)"
      ],
      "metadata": {
        "id": "Z9q-XPQC9nC2"
      },
      "execution_count": null,
      "outputs": []
    },
    {
      "cell_type": "code",
      "source": [
        "image_to_json(stablediff_path)"
      ],
      "metadata": {
        "id": "4W1XzfI2NVFM"
      },
      "execution_count": null,
      "outputs": []
    },
    {
      "cell_type": "markdown",
      "source": [
        "# Reconstructing Images"
      ],
      "metadata": {
        "id": "ccMmuLJK8LNG"
      }
    },
    {
      "cell_type": "code",
      "source": [
        "r = open(f'/content/drive/My Drive/ISYE 6740/DALL-E/Encoded Images.txt')\n",
        "lines = r.readlines()\n",
        "Image.fromarray(np.asarray(json.JSONDecoder().decode(lines[0])).astype('uint8'), 'RGB').resize((1000, 1000), Image.NEAREST)"
      ],
      "metadata": {
        "id": "Lzqaf-mn8boI"
      },
      "execution_count": null,
      "outputs": []
    },
    {
      "cell_type": "code",
      "source": [
        "len(lines)"
      ],
      "metadata": {
        "id": "3rNGvBgf_ATH"
      },
      "execution_count": null,
      "outputs": []
    },
    {
      "cell_type": "code",
      "source": [
        "r = open(f'/content/drive/My Drive/ISYE 6740/Stable Diffusion/Encoded Images.txt')\n",
        "lines = r.readlines()\n",
        "len(lines)"
      ],
      "metadata": {
        "id": "3cQFfTe_BVRD"
      },
      "execution_count": null,
      "outputs": []
    },
    {
      "cell_type": "code",
      "source": [
        "len(lines)\n",
        "Image.open(midjourney_path + 'midjourney_2499.png').resize((64, 64))"
      ],
      "metadata": {
        "id": "gS8aj3gKDxcr"
      },
      "execution_count": null,
      "outputs": []
    },
    {
      "cell_type": "code",
      "source": [
        "r = open(f'/content/drive/My Drive/ISYE 6740/Midjourney/Encoded Images.txt')\n",
        "lines = r.readlines()\n",
        "len(lines)"
      ],
      "metadata": {
        "id": "DqEIzUA-D1Hk"
      },
      "execution_count": null,
      "outputs": []
    }
  ]
}